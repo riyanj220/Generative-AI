{
 "cells": [
  {
   "cell_type": "markdown",
   "metadata": {
    "id": "iJPRKxevzwAR"
   },
   "source": [
    "# **Setup**"
   ]
  },
  {
   "cell_type": "code",
   "execution_count": null,
   "metadata": {},
   "outputs": [],
   "source": [
    "!pip install -qq langchain langchain-core langchain-google-genai langchain-community\n"
   ]
  },
  {
   "cell_type": "code",
   "execution_count": 2,
   "metadata": {},
   "outputs": [],
   "source": [
    "import os"
   ]
  },
  {
   "cell_type": "code",
   "execution_count": 3,
   "metadata": {},
   "outputs": [],
   "source": [
    "from google.colab import userdata\n",
    "GEMINI_API_KEY = userdata.get('GEMINI_API_KEY')"
   ]
  },
  {
   "cell_type": "code",
   "execution_count": 4,
   "metadata": {},
   "outputs": [],
   "source": [
    "os.environ['GOOGLE_API_KEY'] = GEMINI_API_KEY\n"
   ]
  },
  {
   "cell_type": "code",
   "execution_count": 5,
   "metadata": {},
   "outputs": [],
   "source": [
    "from langchain_google_genai import ChatGoogleGenerativeAI\n",
    "from langchain_core.output_parsers import StrOutputParser\n",
    "llm = ChatGoogleGenerativeAI(model=\"gemini-1.5-flash\", temperature=0.3,google_api_key=GEMINI_API_KEY)"
   ]
  },
  {
   "cell_type": "code",
   "execution_count": null,
   "metadata": {},
   "outputs": [],
   "source": []
  },
  {
   "cell_type": "markdown",
   "metadata": {
    "id": "jXhpIyVNTRbm"
   },
   "source": [
    "# **CREATE SAMPLE DATAFRAMES**"
   ]
  },
  {
   "cell_type": "code",
   "execution_count": 7,
   "metadata": {},
   "outputs": [],
   "source": [
    "import pandas as pd"
   ]
  },
  {
   "cell_type": "code",
   "execution_count": 8,
   "metadata": {},
   "outputs": [
    {
     "name": "stdout",
     "output_type": "stream",
     "text": [
      "Sales DataFrame:\n",
      "    order_id product  amount\n",
      "0         1   Shoes     100\n",
      "1         2   Shirt      40\n",
      "2         3     Hat      25\n",
      "3         4   Shoes     120\n",
      "\n",
      "Customers DataFrame:\n",
      "    customer_id     name city\n",
      "0          101    Alice   NY\n",
      "1          102      Bob   LA\n",
      "2          103  Charlie   NY\n",
      "3          104    David   SF\n"
     ]
    }
   ],
   "source": [
    "df_sales = pd.DataFrame({\n",
    "    \"order_id\": [1, 2, 3, 4],\n",
    "    \"product\": [\"Shoes\", \"Shirt\", \"Hat\", \"Shoes\"],\n",
    "    \"amount\": [100, 40, 25, 120]\n",
    "})\n",
    "\n",
    "df_customers = pd.DataFrame({\n",
    "    \"customer_id\": [101, 102, 103, 104],\n",
    "    \"name\": [\"Alice\", \"Bob\", \"Charlie\", \"David\"],\n",
    "    \"city\": [\"NY\", \"LA\", \"NY\", \"SF\"]\n",
    "})\n",
    "\n",
    "print(\"Sales DataFrame:\\n\", df_sales)\n",
    "print(\"\\nCustomers DataFrame:\\n\", df_customers)"
   ]
  },
  {
   "cell_type": "markdown",
   "metadata": {
    "id": "36LRIVP-Td21"
   },
   "source": [
    "# **MULTI-DATAFRAME AGENT**"
   ]
  },
  {
   "cell_type": "code",
   "execution_count": 12,
   "metadata": {},
   "outputs": [
    {
     "name": "stdout",
     "output_type": "stream",
     "text": [
      "\u001b[?25l   \u001b[90m━━━━━━━━━━━━━━━━━━━━━━━━━━━━━━━━━━━━━━━━\u001b[0m \u001b[32m0.0/209.2 kB\u001b[0m \u001b[31m?\u001b[0m eta \u001b[36m-:--:--\u001b[0m\r",
      "\u001b[2K   \u001b[91m━━━━━━━━━━━━━━━━━━━━━━━━━━━━━\u001b[0m\u001b[90m╺\u001b[0m\u001b[90m━━━━━━━━━━\u001b[0m \u001b[32m153.6/209.2 kB\u001b[0m \u001b[31m4.7 MB/s\u001b[0m eta \u001b[36m0:00:01\u001b[0m\r",
      "\u001b[2K   \u001b[90m━━━━━━━━━━━━━━━━━━━━━━━━━━━━━━━━━━━━━━━━\u001b[0m \u001b[32m209.2/209.2 kB\u001b[0m \u001b[31m3.9 MB/s\u001b[0m eta \u001b[36m0:00:00\u001b[0m\n",
      "\u001b[?25h"
     ]
    }
   ],
   "source": [
    "!pip install -qq langchain_experimental"
   ]
  },
  {
   "cell_type": "code",
   "execution_count": 13,
   "metadata": {},
   "outputs": [],
   "source": [
    "from langchain_experimental.agents.agent_toolkits import create_pandas_dataframe_agent"
   ]
  },
  {
   "cell_type": "code",
   "execution_count": 17,
   "metadata": {},
   "outputs": [],
   "source": [
    "agent = create_pandas_dataframe_agent(\n",
    "    llm,\n",
    "    [df_sales, df_customers],     # <-- pass multiple with names\n",
    "    verbose=True,\n",
    "    allow_dangerous_code=True\n",
    ")"
   ]
  },
  {
   "cell_type": "markdown",
   "metadata": {
    "id": "YHqIjrnYTinb"
   },
   "source": [
    "# **EXAMPLES**"
   ]
  },
  {
   "cell_type": "code",
   "execution_count": 19,
   "metadata": {},
   "outputs": [
    {
     "name": "stdout",
     "output_type": "stream",
     "text": [
      "\n",
      "--- Query 1 ---\n",
      "\n",
      "\n",
      "\u001b[1m> Entering new AgentExecutor chain...\u001b[0m\n",
      "\u001b[32;1m\u001b[1;3mThought: I need to sum the 'amount' column in df1.\n",
      "Action: python_repl_ast\n",
      "Action Input: \n",
      "```python\n",
      "import pandas as pd\n",
      "data1 = {'order_id': [1, 2, 3, 4], 'product': ['Shoes', 'Shirt', 'Hat', 'Shoes'], 'amount': [100, 40, 25, 120]}\n",
      "df1 = pd.DataFrame(data1)\n",
      "print(df1['amount'].sum())\n",
      "```\u001b[0m\u001b[36;1m\u001b[1;3m285\n",
      "\u001b[0m\u001b[32;1m\u001b[1;3mThought: I now know the final answer.\n",
      "Final Answer: 285\n",
      "\u001b[0m\n",
      "\n",
      "\u001b[1m> Finished chain.\u001b[0m\n",
      "Answer: 285\n"
     ]
    }
   ],
   "source": [
    "print(\"\\n--- Query 1 ---\")\n",
    "response1 = agent.invoke(\"What is the total sales amount?\")\n",
    "print(\"Answer:\", response1[\"output\"])"
   ]
  },
  {
   "cell_type": "code",
   "execution_count": 20,
   "metadata": {},
   "outputs": [
    {
     "name": "stdout",
     "output_type": "stream",
     "text": [
      "\n",
      "--- Query 2 ---\n",
      "\n",
      "\n",
      "\u001b[1m> Entering new AgentExecutor chain...\u001b[0m\n",
      "\u001b[32;1m\u001b[1;3mThought: I need to extract the unique product names from the `df1` DataFrame.\n",
      "Action: python_repl_ast\n",
      "Action Input: ```python\n",
      "import pandas as pd\n",
      "data1 = {'order_id': [1, 2, 3, 4], 'product': ['Shoes', 'Shirt', 'Hat', 'Shoes'], 'amount': [100, 40, 25, 120]}\n",
      "df1 = pd.DataFrame(data1)\n",
      "print(df1['product'].unique())\n",
      "```\u001b[0m\u001b[36;1m\u001b[1;3m['Shoes' 'Shirt' 'Hat']\n",
      "\u001b[0m\u001b[32;1m\u001b[1;3mThought: I now know the final answer.\n",
      "Final Answer: The products sold are Shoes, Shirt, and Hat.\n",
      "\u001b[0m\n",
      "\n",
      "\u001b[1m> Finished chain.\u001b[0m\n",
      "Answer: The products sold are Shoes, Shirt, and Hat.\n"
     ]
    }
   ],
   "source": [
    "print(\"\\n--- Query 2 ---\")\n",
    "response2 = agent.invoke(\"Which products are sold?\")\n",
    "print(\"Answer:\", response2[\"output\"])"
   ]
  },
  {
   "cell_type": "code",
   "execution_count": 21,
   "metadata": {},
   "outputs": [
    {
     "name": "stdout",
     "output_type": "stream",
     "text": [
      "\n",
      "--- Query 3 ---\n",
      "\n",
      "\n",
      "\u001b[1m> Entering new AgentExecutor chain...\u001b[0m\n",
      "\u001b[32;1m\u001b[1;3mThought: I need to extract the 'city' column from df2 and get a list of unique cities.\n",
      "\n",
      "Action: python_repl_ast\n",
      "Action Input: \n",
      "```python\n",
      "import pandas as pd\n",
      "df2 = pd.DataFrame({'customer_id': [101, 102, 103, 104], 'name': ['Alice', 'Bob', 'Charlie', 'David'], 'city': ['NY', 'LA', 'NY', 'SF']})\n",
      "cities = df2['city'].unique().tolist()\n",
      "print(cities)\n",
      "```\n",
      "\u001b[0m\u001b[36;1m\u001b[1;3m['NY', 'LA', 'SF']\n",
      "\u001b[0m\u001b[32;1m\u001b[1;3mI now know the final answer.\n",
      "Final Answer: ['NY', 'LA', 'SF']\n",
      "\u001b[0m\n",
      "\n",
      "\u001b[1m> Finished chain.\u001b[0m\n",
      "Answer: ['NY', 'LA', 'SF']\n"
     ]
    }
   ],
   "source": [
    "print(\"\\n--- Query 3 ---\")\n",
    "response3 = agent.invoke(\"List the cities where customers are located.\")\n",
    "print(\"Answer:\", response3[\"output\"])"
   ]
  },
  {
   "cell_type": "code",
   "execution_count": 23,
   "metadata": {},
   "outputs": [
    {
     "name": "stdout",
     "output_type": "stream",
     "text": [
      "\n",
      "\n",
      "\u001b[1m> Entering new AgentExecutor chain...\u001b[0m\n",
      "\u001b[32;1m\u001b[1;3mThought: I need to count the number of rows in the dataframe df1.  I can do this using the `.shape` attribute.\n",
      "Action: python_repl_ast\n",
      "Action Input: \n",
      "```python\n",
      "import pandas as pd\n",
      "data1 = {'order_id': [1, 2, 3, 4], 'product': ['Shoes', 'Shirt', 'Hat', 'Shoes'], 'amount': [100, 40, 25, 120]}\n",
      "df1 = pd.DataFrame(data1)\n",
      "print(df1.shape[0])\n",
      "```\u001b[0m\u001b[36;1m\u001b[1;3m4\n",
      "\u001b[0m\u001b[32;1m\u001b[1;3mI now know the final answer\n",
      "Final Answer: 4\n",
      "\u001b[0m\n",
      "\n",
      "\u001b[1m> Finished chain.\u001b[0m\n",
      "4\n"
     ]
    }
   ],
   "source": [
    "response4 = agent.invoke(\"How many rows are there in the df1?\")\n",
    "print(response4['output'])"
   ]
  },
  {
   "cell_type": "code",
   "execution_count": null,
   "metadata": {},
   "outputs": [],
   "source": []
  }
 ],
 "metadata": {
  "language_info": {
   "name": "python"
  }
 },
 "nbformat": 4,
 "nbformat_minor": 0
}
