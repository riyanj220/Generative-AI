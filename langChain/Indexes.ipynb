{
 "cells": [
  {
   "cell_type": "code",
   "execution_count": null,
   "metadata": {},
   "outputs": [],
   "source": [
    "!pip install -q langchain langchain-core langchain-community langchain-text-splitters\n",
    "!pip install -q langchain-google-genai langchain-huggingface\n",
    "!pip install -q faiss-cpu langchain-chroma chromadb\n",
    "!pip install -q pypdf\n"
   ]
  },
  {
   "cell_type": "code",
   "execution_count": 2,
   "metadata": {},
   "outputs": [],
   "source": [
    "import os"
   ]
  },
  {
   "cell_type": "code",
   "execution_count": 4,
   "metadata": {},
   "outputs": [],
   "source": [
    "from google.colab import userdata\n",
    "GEMINI_API_KEY = userdata.get('GEMINI_API_KEY')"
   ]
  },
  {
   "cell_type": "code",
   "execution_count": 5,
   "metadata": {},
   "outputs": [],
   "source": [
    "os.environ['GOOGLE_API_KEY'] = GEMINI_API_KEY\n"
   ]
  },
  {
   "cell_type": "code",
   "execution_count": 6,
   "metadata": {},
   "outputs": [],
   "source": [
    "from langchain_google_genai import ChatGoogleGenerativeAI\n",
    "from langchain_core.output_parsers import StrOutputParser\n",
    "llm = ChatGoogleGenerativeAI(model=\"gemini-1.5-flash\", temperature=0.3,google_api_key=GEMINI_API_KEY)"
   ]
  },
  {
   "cell_type": "markdown",
   "metadata": {
    "id": "xxCq8piwqGSb"
   },
   "source": [
    "# **a) Document Loader**"
   ]
  },
  {
   "cell_type": "code",
   "execution_count": null,
   "metadata": {},
   "outputs": [],
   "source": [
    "from langchain_community.document_loaders import TextLoader, PyPDFLoader"
   ]
  },
  {
   "cell_type": "code",
   "execution_count": 16,
   "metadata": {},
   "outputs": [
    {
     "name": "stdout",
     "output_type": "stream",
     "text": [
      "1 {'source': 'sample_file.txt'} # Ideanote\n",
      "\n",
      "> Ideanote is the world's leading innovation and idea management software for enterprise\n",
      "2 {'producer': 'LibreOffice 24.8.1.2 (X86_64) / LibreOffice Community', 'creator': 'Writer', 'creationdate': '2025-09-04T16:52:16+00:00', 'source': 'sample_file.pdf', 'total_pages': 2, 'page': 0, 'page_label': '1'}\n"
     ]
    }
   ],
   "source": [
    "# TXT\n",
    "loader = TextLoader(\"sample_file.txt\", encoding=\"utf-8\")\n",
    "docs = loader.load()\n",
    "\n",
    "# PDF\n",
    "pdf_loader = PyPDFLoader(\"sample_file.pdf\")\n",
    "pdf_docs = pdf_loader.load()\n",
    "\n",
    "print(len(docs), docs[0].metadata, docs[0].page_content[:100])\n",
    "print(len(pdf_docs), pdf_docs[0].metadata)\n"
   ]
  },
  {
   "cell_type": "markdown",
   "metadata": {
    "id": "y1yl_acnqyTZ"
   },
   "source": [
    "# **b) Text Splitter**"
   ]
  },
  {
   "cell_type": "code",
   "execution_count": null,
   "metadata": {},
   "outputs": [],
   "source": [
    "from langchain_text_splitters import RecursiveCharacterTextSplitter"
   ]
  },
  {
   "cell_type": "code",
   "execution_count": 17,
   "metadata": {},
   "outputs": [
    {
     "name": "stdout",
     "output_type": "stream",
     "text": [
      "14 {'source': 'sample_file.txt', 'start_index': 0} # Ideanote\n",
      "\n",
      "> Ideanote is the world's leading innovation and idea management software for enterprise. \n",
      "\n",
      "Ideanote is how \n"
     ]
    }
   ],
   "source": [
    "splitter = RecursiveCharacterTextSplitter(\n",
    "    chunk_size=500, chunk_overlap=100, add_start_index=True\n",
    ")\n",
    "splits = splitter.split_documents(docs)\n",
    "\n",
    "print(len(splits), splits[0].metadata, splits[0].page_content[:120])\n"
   ]
  },
  {
   "cell_type": "markdown",
   "metadata": {
    "id": "Fa-rX67Tq7Gw"
   },
   "source": [
    "# **c) Embeddings + Vector Database**"
   ]
  },
  {
   "cell_type": "code",
   "execution_count": 29,
   "metadata": {},
   "outputs": [],
   "source": [
    "from langchain_google_genai import GoogleGenerativeAIEmbeddings\n",
    "emb = GoogleGenerativeAIEmbeddings(model=\"models/embedding-001\")\n"
   ]
  },
  {
   "cell_type": "code",
   "execution_count": 30,
   "metadata": {},
   "outputs": [],
   "source": [
    "from langchain_community.vectorstores import FAISS\n",
    "\n",
    "faiss_store = FAISS.from_documents(splits, emb)\n",
    "faiss_store.save_local(\"faiss_index\")"
   ]
  },
  {
   "cell_type": "markdown",
   "metadata": {
    "id": "ZWzndFC6rIIp"
   },
   "source": [
    "# **d) Retriever**"
   ]
  },
  {
   "cell_type": "code",
   "execution_count": 28,
   "metadata": {},
   "outputs": [
    {
     "name": "stdout",
     "output_type": "stream",
     "text": [
      "{'source': 'sample_file.txt', 'start_index': 3927} - [Free Innovation Tools](https://ideanote.io/tool): Useful tools for innovation.\n",
      "- [Ideanote Blog](https://www.ideanote\n",
      "{'source': 'sample_file.txt', 'start_index': 3494} ## Innovation Resources & Thought Leadership\n",
      "- [Innovation-Led Growth Flywheel](https://www.ideanote.io/innovation-led-g\n",
      "{'source': 'sample_file.txt', 'start_index': 2816} ## Doc and Search\n",
      "- [Help Docs](https://ideanote.io/help)\n",
      "- [Intro and Signup](https://ideanote.io/help/intro-to-ideanot\n"
     ]
    }
   ],
   "source": [
    "retriever = faiss_store.as_retriever(search_type=\"similarity\", search_kwargs={\"k\": 3})\n",
    "\n",
    "query = \"What are the main ideas in the text?\"\n",
    "results = retriever.invoke(query)\n",
    "\n",
    "for r in results:\n",
    "    print(r.metadata, r.page_content[:120])\n"
   ]
  },
  {
   "cell_type": "markdown",
   "metadata": {
    "id": "reS9iEIKrO7G"
   },
   "source": [
    "# **e) RAG (Retriever + LLM)**"
   ]
  },
  {
   "cell_type": "code",
   "execution_count": 31,
   "metadata": {},
   "outputs": [
    {
     "name": "stdout",
     "output_type": "stream",
     "text": [
      "Ideanote is innovation and idea management software for enterprises.  It helps companies manage innovation by engaging employees and collecting, developing, and managing ideas through a central platform.\n"
     ]
    }
   ],
   "source": [
    "from langchain_google_genai import ChatGoogleGenerativeAI\n",
    "from langchain_core.prompts import ChatPromptTemplate\n",
    "from langchain_core.output_parsers import StrOutputParser\n",
    "from langchain_community.vectorstores import FAISS\n",
    "from langchain_community.embeddings import HuggingFaceEmbeddings\n",
    "from langchain_core.runnables import RunnablePassthrough\n",
    "\n",
    "\n",
    "faiss_store = FAISS.load_local(\"faiss_index\", emb, allow_dangerous_deserialization=True)\n",
    "retriever = faiss_store.as_retriever(search_type=\"similarity\", search_kwargs={\"k\": 3})\n",
    "\n",
    "prompt = ChatPromptTemplate.from_template(\n",
    "    \"Answer the following question using only the given context.\\n\\n\"\n",
    "    \"Context:\\n{context}\\n\\nQuestion: {question}\\n\\nAnswer:\"\n",
    ")\n",
    "\n",
    "# Build RAG pipeline using runnables\n",
    "rag_chain = (\n",
    "    {\"context\": retriever, \"question\": RunnablePassthrough()}  # fetch docs + keep question\n",
    "    | prompt\n",
    "    | llm\n",
    "    | StrOutputParser()   # clean text output\n",
    ")\n",
    "\n",
    "# Run\n",
    "result = rag_chain.invoke(\"Tell me the main idea of the text file\")\n",
    "print(result)\n"
   ]
  },
  {
   "cell_type": "code",
   "execution_count": null,
   "metadata": {},
   "outputs": [],
   "source": []
  }
 ],
 "metadata": {
  "language_info": {
   "name": "python"
  }
 },
 "nbformat": 4,
 "nbformat_minor": 0
}
