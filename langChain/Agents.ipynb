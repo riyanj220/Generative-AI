{
 "cells": [
  {
   "cell_type": "markdown",
   "metadata": {
    "id": "vbteiwgj-wtv"
   },
   "source": [
    "# **Setup**"
   ]
  },
  {
   "cell_type": "code",
   "execution_count": null,
   "metadata": {},
   "outputs": [],
   "source": [
    "!pip install -qq langchain langchain-core langchain-google-genai langchain-community"
   ]
  },
  {
   "cell_type": "code",
   "execution_count": 2,
   "metadata": {},
   "outputs": [],
   "source": [
    "import os"
   ]
  },
  {
   "cell_type": "code",
   "execution_count": 3,
   "metadata": {},
   "outputs": [],
   "source": [
    "from google.colab import userdata\n",
    "GEMINI_API_KEY = userdata.get('GEMINI_API_KEY')"
   ]
  },
  {
   "cell_type": "code",
   "execution_count": 9,
   "metadata": {},
   "outputs": [],
   "source": [
    "from google.colab import userdata\n",
    "TAVILY_API_KEY = userdata.get('TRAVITY_API_KEY')"
   ]
  },
  {
   "cell_type": "code",
   "execution_count": 10,
   "metadata": {},
   "outputs": [],
   "source": [
    "os.environ['GOOGLE_API_KEY'] = GEMINI_API_KEY\n",
    "os.environ['TAVILY_API_KEY'] = TAVILY_API_KEY"
   ]
  },
  {
   "cell_type": "code",
   "execution_count": 5,
   "metadata": {},
   "outputs": [],
   "source": [
    "from langchain_google_genai import ChatGoogleGenerativeAI\n",
    "from langchain_core.output_parsers import StrOutputParser\n",
    "llm = ChatGoogleGenerativeAI(model=\"gemini-1.5-flash\", temperature=0.3,google_api_key=GEMINI_API_KEY)"
   ]
  },
  {
   "cell_type": "markdown",
   "metadata": {
    "id": "mVBS2I0U-2hu"
   },
   "source": [
    "# **Define Tools**\n",
    "Tools are just functions wrapped so the agent can call them."
   ]
  },
  {
   "cell_type": "code",
   "execution_count": 11,
   "metadata": {},
   "outputs": [],
   "source": [
    "from langchain_community.tools.tavily_search import TavilySearchResults\n",
    "from langchain_community.tools import tool\n",
    "\n",
    "# Example 1: Web search (requires TAVILY_API_KEY in env)\n",
    "search_tool = TavilySearchResults(max_results=2)\n",
    "\n",
    "# Example 2: Custom calculator tool\n",
    "@tool\n",
    "def multiply_numbers(a: int, b: int) -> str:\n",
    "    \"\"\"Multiply two integers and return the result as string.\"\"\"\n",
    "    return str(a * b)\n",
    "\n",
    "tools = [search_tool, multiply_numbers]\n"
   ]
  },
  {
   "cell_type": "markdown",
   "metadata": {
    "id": "NajHR6Du-6VP"
   },
   "source": [
    "# **Create the Agent**\n",
    "Use LangChain’s AgentExecutor."
   ]
  },
  {
   "cell_type": "code",
   "execution_count": 16,
   "metadata": {},
   "outputs": [],
   "source": [
    "from langchain.agents import create_tool_calling_agent, AgentExecutor\n",
    "from langchain_core.prompts import ChatPromptTemplate, MessagesPlaceholder\n",
    "\n",
    "prompt = ChatPromptTemplate.from_messages([\n",
    "    (\"system\", \"You are a helpful assistant. Use tools if needed.\"),\n",
    "    (\"human\", \"{input}\"),\n",
    "    MessagesPlaceholder(\"agent_scratchpad\"),\n",
    "\n",
    "    '''\n",
    "      The scratchpad is where the agent keeps notes:\n",
    "      “User asked: …”\n",
    "      “I need to search → use search_tool”\n",
    "      “Got answer, now multiply”\n",
    "      “Final answer: …”\n",
    "      This is like the AI’s notebook for reasoning steps.\n",
    "    '''\n",
    "])\n",
    "\n",
    "\n",
    "agent = create_tool_calling_agent(llm, tools, prompt)\n",
    "'''\n",
    "The agent is a wrapper:\n",
    "It reads the prompt.\n",
    "It sees what tools are available.\n",
    "It decides: “Do I answer directly, or call a tool?”\n",
    "It logs its thought process in the scratchpad.\n",
    "'''\n",
    "\n",
    "\n",
    "agent_executor = AgentExecutor(agent=agent, tools=tools, verbose=True)\n",
    "\n",
    "# AgentExecutor = the runtime that manages reasoning loops.\n"
   ]
  },
  {
   "cell_type": "code",
   "execution_count": 17,
   "metadata": {},
   "outputs": [
    {
     "name": "stdout",
     "output_type": "stream",
     "text": [
      "\n",
      "\n",
      "\u001b[1m> Entering new AgentExecutor chain...\u001b[0m\n",
      "\u001b[32;1m\u001b[1;3m\n",
      "Invoking: `tavily_search_results_json` with `{'query': 'who won the FIFA World Cup in 2018'}`\n",
      "\n",
      "\n",
      "\u001b[0m\u001b[36;1m\u001b[1;3m[{'title': '2018 WORLD CUP FINAL: France 4-2 Croatia - YouTube', 'url': 'https://www.youtube.com/watch?v=GrsEAvRerTg', 'content': '# 2018 WORLD CUP FINAL: France 4-2 Croatia\\n## FIFA\\n23600000 subscribers\\n544831 likes\\n\\n### Description\\n67447733 views\\nPosted: 15 Jul 2018\\nWatch or stream for FREE the biggest World Cup archive of all time on FIFA+ \\n👉  \\n\\nFrance won the 2018 FIFA World Cup Russia™ after defeating Croatia 4-2 in a thoroughly entertaining Final at the Luzhniki Stadium in Moscow in what was a fitting end to an outstanding tournament.', 'score': 0.9158166}, {'title': 'World Cup 2018: France beat Croatia 4-2 in World Cup final - BBC', 'url': 'https://www.bbc.com/sport/football/44754965', 'content': \"BBC Sport\\n\\n# World Cup 2018: France beat Croatia 4-2 in World Cup final\\n\\n comments\\n\\n  1772 Comments\\n\\nShare page\\n\\nAbout sharing\\n\\nPhil McNulty\\n\\nChief football writer in Moscow, Russia\\n\\nFrance won the Fifa World Cup for the second time by overcoming Croatia's bold challenge in a thrilling final in Moscow's Luzhniki Stadium.\\n\\nDidier Deschamps' side repeated the success on home soil at France '98 by a margin that hardly looked possible as Croatia stood toe-to-toe with the favourites for an hour. [...] In one of the most exciting World Cup finals of the modern era, played out to a soundtrack of thunder, Croatia and France delivered an enthralling spectacle that brought the joint highest goal tally in a final since 1958, a pitch invasion, and a controversial intervention from the video assistant referee that had a huge influence on the outcome. [...] France took the lead after 18 minutes when Antoine Griezmann's free-kick deflected in off Mario Mandzukic's head - but Croatia were by far the better side in the first half and deservedly equalised courtesy of Ivan Perisic's left-foot finish.\", 'score': 0.90102744}]\u001b[0m\u001b[32;1m\u001b[1;3m\n",
      "Invoking: `multiply_numbers` with `{'a': 2018.0, 'b': 2.0}`\n",
      "\n",
      "\n",
      "\u001b[0m\u001b[33;1m\u001b[1;3m4036\u001b[0m\u001b[32;1m\u001b[1;3mFrance won the 2018 FIFA World Cup.  2018 multiplied by 2 is 4036.\n",
      "\u001b[0m\n",
      "\n",
      "\u001b[1m> Finished chain.\u001b[0m\n",
      "France won the 2018 FIFA World Cup.  2018 multiplied by 2 is 4036.\n",
      "\n"
     ]
    }
   ],
   "source": [
    "response = agent_executor.invoke({\n",
    "    \"input\": \"Search who won the FIFA World Cup in 2018, then multiply the year by 2.\"\n",
    "})\n",
    "print(response[\"output\"])\n"
   ]
  },
  {
   "cell_type": "code",
   "execution_count": null,
   "metadata": {},
   "outputs": [],
   "source": []
  }
 ],
 "metadata": {
  "language_info": {
   "name": "python"
  }
 },
 "nbformat": 4,
 "nbformat_minor": 0
}
