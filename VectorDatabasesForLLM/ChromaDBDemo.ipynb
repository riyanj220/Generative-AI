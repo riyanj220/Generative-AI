{
 "cells": [
  {
   "cell_type": "markdown",
   "metadata": {
    "id": "YYe__X3uBQT_"
   },
   "source": [
    "# **Setting Up Chroma Cloud API Key**"
   ]
  },
  {
   "cell_type": "code",
   "execution_count": null,
   "metadata": {},
   "outputs": [],
   "source": [
    "from google.colab import userdata\n",
    "CHROMA_API_KEY=userdata.get('CHROMA_API_KEY')"
   ]
  },
  {
   "cell_type": "markdown",
   "metadata": {
    "id": "lN2IzhL_7emw"
   },
   "source": [
    "# **Sample Testing of chroma DB cloud**"
   ]
  },
  {
   "cell_type": "code",
   "execution_count": null,
   "metadata": {},
   "outputs": [],
   "source": [
    "!pip install chromadb"
   ]
  },
  {
   "cell_type": "code",
   "execution_count": 3,
   "metadata": {},
   "outputs": [],
   "source": [
    "import chromadb\n",
    "\n",
    "client = chromadb.CloudClient(\n",
    "  api_key=CHROMA_API_KEY,\n",
    "  tenant='20406c6d-8908-4b88-9823-4e6f3da11854',\n",
    "  database='dev_db'\n",
    ")"
   ]
  },
  {
   "cell_type": "code",
   "execution_count": 4,
   "metadata": {},
   "outputs": [],
   "source": [
    "!pip install -q transformers sentence-transformers chromadb\n"
   ]
  },
  {
   "cell_type": "code",
   "execution_count": 5,
   "metadata": {},
   "outputs": [],
   "source": [
    "# Sentence transformer library is used to create word embeddings that captures semantic meanings of the text\n",
    "from sentence_transformers import SentenceTransformer\n"
   ]
  },
  {
   "cell_type": "code",
   "execution_count": null,
   "metadata": {},
   "outputs": [],
   "source": [
    "model = SentenceTransformer('all-MiniLM-L6-v2')  # Sentence-BERT model\n",
    "\n",
    "# Example text to generate embeddings for\n",
    "texts = [\n",
    "    \"This is an example sentence.\",\n",
    "    \"Chroma DB stores embeddings efficiently.\",\n",
    "    \"Hugging Face provides pre-trained models for embeddings.\"\n",
    "]"
   ]
  },
  {
   "cell_type": "code",
   "execution_count": 15,
   "metadata": {},
   "outputs": [],
   "source": [
    "embeddings = model.encode(texts)"
   ]
  },
  {
   "cell_type": "code",
   "execution_count": 9,
   "metadata": {},
   "outputs": [],
   "source": [
    "collection = client.create_collection(name=\"my_embeddings\")"
   ]
  },
  {
   "cell_type": "code",
   "execution_count": 11,
   "metadata": {},
   "outputs": [
    {
     "name": "stdout",
     "output_type": "stream",
     "text": [
      "Embeddings successfully stored in Chroma DB.\n"
     ]
    }
   ],
   "source": [
    "# Add the embeddings to Chroma DB\n",
    "for i, embedding in enumerate(embeddings):\n",
    "    collection.add(\n",
    "        ids=[str(i)],                    # Unique ID for each document (you can use any unique string)\n",
    "        metadatas=[{\"text\": texts[i]}],  # Optional metadata\n",
    "        documents=[texts[i]],            # Text associated with embedding\n",
    "        embeddings=[embedding]           # The actual embedding vector\n",
    "    )\n",
    "\n",
    "print(\"Embeddings successfully stored in Chroma DB.\")\n"
   ]
  },
  {
   "cell_type": "code",
   "execution_count": 16,
   "metadata": {},
   "outputs": [
    {
     "name": "stdout",
     "output_type": "stream",
     "text": [
      "Query Results: {'ids': [['1']], 'distances': [[0.6530509]], 'embeddings': None, 'metadatas': [[{'text': 'Chroma DB stores embeddings efficiently.'}]], 'documents': [['Chroma DB stores embeddings efficiently.']], 'uris': None, 'data': None, 'included': ['metadatas', 'documents', 'distances']}\n"
     ]
    }
   ],
   "source": [
    "# Now you can query the stored embeddings\n",
    "query = \"What is Chroma DB?\"\n",
    "query_embedding = model.encode([query])  # Generate embedding for the query\n",
    "\n",
    "# Search for the most similar embeddings in the collection\n",
    "results = collection.query(\n",
    "    query_embeddings=query_embedding,\n",
    "    n_results=1  # number of similar results you want\n",
    ")\n",
    "\n",
    "print(\"Query Results:\", results)"
   ]
  },
  {
   "cell_type": "markdown",
   "metadata": {
    "id": "kmAwpaw4z2xX"
   },
   "source": [
    "# **Tutorial Follow Up**"
   ]
  },
  {
   "cell_type": "code",
   "execution_count": null,
   "metadata": {},
   "outputs": [],
   "source": [
    "!pip install -q langchain langchain-community langchain-text-splitters chromadb requests"
   ]
  },
  {
   "cell_type": "code",
   "execution_count": null,
   "metadata": {},
   "outputs": [],
   "source": [
    "!pip install --upgrade langchain langchain_community"
   ]
  },
  {
   "cell_type": "code",
   "execution_count": 5,
   "metadata": {},
   "outputs": [],
   "source": [
    "!wget -q https://www.dropbox.com/s/vs6ocyvpzzncvwh/new_articles.zip"
   ]
  },
  {
   "cell_type": "code",
   "execution_count": 6,
   "metadata": {},
   "outputs": [],
   "source": [
    "!unzip -q new_articles.zip -d new_articles"
   ]
  },
  {
   "cell_type": "markdown",
   "metadata": {
    "id": "2KXrA5A1zoLO"
   },
   "source": [
    "# **Setting up Environment**"
   ]
  },
  {
   "cell_type": "code",
   "execution_count": null,
   "metadata": {},
   "outputs": [],
   "source": [
    "# Gemini API setup\n",
    "GEMINI_API_KEY = userdata.get(\"GEMINI_API_KEY\")\n",
    "GEMINI_API_URL = \"https://generativelanguage.googleapis.com/v1beta/models/gemini-embedding-001:embedContent\"\n"
   ]
  },
  {
   "cell_type": "markdown",
   "metadata": {
    "id": "zTM0BTuA7WeK"
   },
   "source": [
    "# **Importing Libraries**"
   ]
  },
  {
   "cell_type": "code",
   "execution_count": null,
   "metadata": {},
   "outputs": [],
   "source": [
    "import requests\n",
    "from typing import List\n",
    "from langchain_core.embeddings import Embeddings\n",
    "from langchain_community.vectorstores import Chroma\n",
    "from langchain_text_splitters import RecursiveCharacterTextSplitter\n",
    "from langchain_community.document_loaders import DirectoryLoader, TextLoader"
   ]
  },
  {
   "cell_type": "markdown",
   "metadata": {
    "id": "GVFW4rBW0Wfq"
   },
   "source": [
    "# **Loading Data**"
   ]
  },
  {
   "cell_type": "code",
   "execution_count": 9,
   "metadata": {},
   "outputs": [],
   "source": [
    "loader = DirectoryLoader(\"/content/new_articles/\", glob = \"./*.txt\", loader_cls= TextLoader)"
   ]
  },
  {
   "cell_type": "code",
   "execution_count": 10,
   "metadata": {},
   "outputs": [],
   "source": [
    "document = loader.load()"
   ]
  },
  {
   "cell_type": "code",
   "execution_count": null,
   "metadata": {},
   "outputs": [],
   "source": [
    "document"
   ]
  },
  {
   "cell_type": "code",
   "execution_count": 11,
   "metadata": {},
   "outputs": [],
   "source": [
    "from langchain.text_splitter import RecursiveCharacterTextSplitter"
   ]
  },
  {
   "cell_type": "code",
   "execution_count": 12,
   "metadata": {},
   "outputs": [],
   "source": [
    "text_splitter = RecursiveCharacterTextSplitter(chunk_size = 1000, chunk_overlap = 200)\n",
    "text = text_splitter.split_documents(document)"
   ]
  },
  {
   "cell_type": "code",
   "execution_count": null,
   "metadata": {},
   "outputs": [],
   "source": [
    "text"
   ]
  },
  {
   "cell_type": "code",
   "execution_count": 17,
   "metadata": {},
   "outputs": [
    {
     "data": {
      "text/plain": [
       "233"
      ]
     },
     "execution_count": 17,
     "metadata": {},
     "output_type": "execute_result"
    }
   ],
   "source": [
    "len(text)"
   ]
  },
  {
   "cell_type": "code",
   "execution_count": 27,
   "metadata": {},
   "outputs": [
    {
     "data": {
      "text/plain": [
       "Document(metadata={'source': '/content/new_articles/05-04-microsoft-doubles-down-on-ai-with-new-bing-features.txt'}, page_content='In another knock against Microsoft, the company just a few months ago laid off the ethics and society team within its larger AI organization. The move left Microsoft without a dedicated team to ensure its AI principles are closely tied to product design.\\n\\nBird, though, asserts that meaningful progress has been made and that these sorts of AI issues aren’t solved overnight — public though Bing Chat may be. Among other measures, a team of human moderators is in place to watch for abuse, she said, such as users attempting to use Bing Chat to generate phishing emails.\\n\\nBut — as members of the press weren’t given the chance to interact with the latest version of Bing beyond curated demos — I can’t say to what extent all that’s made a difference. It’ll doubtless become clear once more folks get their hands on it.')"
      ]
     },
     "execution_count": 27,
     "metadata": {},
     "output_type": "execute_result"
    }
   ],
   "source": [
    "text[4]"
   ]
  },
  {
   "cell_type": "markdown",
   "metadata": {
    "id": "mNfrYnb10tKA"
   },
   "source": [
    "# **Getting the embeddings using gemini and storing them into ChromaDB**"
   ]
  },
  {
   "cell_type": "code",
   "execution_count": null,
   "metadata": {},
   "outputs": [],
   "source": [
    "# Custom Gemini Embedding class\n",
    "class GeminiEmbedding(Embeddings):\n",
    "    def __init__(self, api_key: str):\n",
    "        self.api_key = api_key\n",
    "\n",
    "    def embed_documents(self, texts: List[str]) -> List[List[float]]:\n",
    "        return [self._embed(text) for text in texts]\n",
    "\n",
    "    def embed_query(self, text: str) -> List[float]:\n",
    "        return self._embed(text)\n",
    "\n",
    "    def _embed(self, text: str) -> List[float]:\n",
    "        headers = {\"Content-Type\": \"application/json\"}\n",
    "        params = {\"key\": self.api_key}\n",
    "        payload = {\"model\": \"models/gemini-embedding-001\", \"content\": {\"parts\":[{\"text\": text}]}}\n",
    "        response = requests.post(GEMINI_API_URL, json=payload, headers=headers, params=params)\n",
    "\n",
    "        if response.status_code != 200:\n",
    "            raise Exception(f\"Gemini API error: {response.text}\")\n",
    "\n",
    "        data = response.json()\n",
    "        return data[\"embedding\"][\"values\"]\n",
    "\n",
    "# Setup\n",
    "embedding = GeminiEmbedding(api_key=GEMINI_API_KEY)\n",
    "\n",
    "# Create Chroma DB\n",
    "persist_directory = \"db\"\n",
    "vectordb = Chroma.from_documents(documents=document, embedding=embedding, persist_directory=persist_directory)\n",
    "\n",
    "print(\"Documents embedded into Chroma using Gemini\")\n"
   ]
  },
  {
   "cell_type": "markdown",
   "metadata": {
    "id": "EcZbtFzT6YB8"
   },
   "source": [
    "# **Raw Query without LLM**"
   ]
  },
  {
   "cell_type": "code",
   "execution_count": 29,
   "metadata": {},
   "outputs": [
    {
     "name": "stdout",
     "output_type": "stream",
     "text": [
      "It’s that time of week again, folks — Week in Review (WiR) time. For those new to the scene, WiR is TechCrunch’s regular newsletter that recaps the biggest tech stories over the past few days. There’s\n",
      "Microsoft doubles down on AI with new Bing features The company's betting the farm on generative AI\n",
      "\n",
      "Microsoft is embarking on the next phase of Bing’s expansion. And — no surprise — it heavily revolv\n",
      "The best way to avoid a down round is to found an AI startup\n",
      "\n",
      "As we see unicorns slash staff and the prevalence of down rounds spike, it may seem that the startup ecosystem is chock-full of bad news a\n"
     ]
    }
   ],
   "source": [
    "query = \"How much money did Microsoft raise?\"\n",
    "results = vectordb.similarity_search(query, k=3) # retrieves the top k=3 most similar chunks.\n",
    "for r in results:\n",
    "    print(r.page_content[:200])\n"
   ]
  },
  {
   "cell_type": "markdown",
   "metadata": {
    "id": "X6I_Gh3j6M5v"
   },
   "source": [
    "# **RAG Pipeline**\n",
    "It's like Search the knowledge base, then have Gemini explain the answer in natural language, citing the docs"
   ]
  },
  {
   "cell_type": "code",
   "execution_count": 18,
   "metadata": {},
   "outputs": [],
   "source": [
    "retriever = vectordb.as_retriever(search_kwargs={\"k\": 3})"
   ]
  },
  {
   "cell_type": "code",
   "execution_count": 32,
   "metadata": {},
   "outputs": [
    {
     "data": {
      "application/vnd.google.colaboratory.intrinsic+json": {
       "type": "string"
      },
      "text/plain": [
       "'similarity'"
      ]
     },
     "execution_count": 32,
     "metadata": {},
     "output_type": "execute_result"
    }
   ],
   "source": [
    "retriever.search_type"
   ]
  },
  {
   "cell_type": "code",
   "execution_count": 33,
   "metadata": {},
   "outputs": [
    {
     "data": {
      "text/plain": [
       "{'k': 3}"
      ]
     },
     "execution_count": 33,
     "metadata": {},
     "output_type": "execute_result"
    }
   ],
   "source": [
    "retriever.search_kwargs"
   ]
  },
  {
   "cell_type": "code",
   "execution_count": 20,
   "metadata": {},
   "outputs": [],
   "source": [
    "!pip install -q langchain-google-genai\n"
   ]
  },
  {
   "cell_type": "code",
   "execution_count": 21,
   "metadata": {},
   "outputs": [],
   "source": [
    "\n",
    "from langchain_google_genai import ChatGoogleGenerativeAI\n",
    "\n",
    "llm = ChatGoogleGenerativeAI(model=\"gemini-1.5-flash\", google_api_key=GEMINI_API_KEY)"
   ]
  },
  {
   "cell_type": "code",
   "execution_count": 22,
   "metadata": {},
   "outputs": [],
   "source": [
    "from langchain.chains import RetrievalQA\n",
    "\n",
    "# create the chain to answer questions\n",
    "qa_chain = RetrievalQA.from_chain_type(\n",
    "    llm=llm,\n",
    "    retriever=retriever,\n",
    "    return_source_documents=True\n",
    ")\n"
   ]
  },
  {
   "cell_type": "code",
   "execution_count": 30,
   "metadata": {},
   "outputs": [
    {
     "name": "stdout",
     "output_type": "stream",
     "text": [
      "Answer: This article doesn't state how much money Microsoft raised.  It discusses Microsoft's investments in AI and the expansion of Bing, but not funding rounds for Microsoft itself.\n",
      "\n",
      "Sources:\n",
      "- /content/new_articles/05-06-amazon-launches-free-channels-check-marks-come-to-gmail-and-openai-raises-more-moolah.txt\n",
      "- /content/new_articles/05-04-microsoft-doubles-down-on-ai-with-new-bing-features.txt\n",
      "- /content/new_articles/05-06-ai-startups-q1-investments.txt\n"
     ]
    }
   ],
   "source": [
    "query = \"How much money did Microsoft raised?\"\n",
    "response = qa_chain.invoke({\"query\": query})\n",
    "\n",
    "print(\"Answer:\", response[\"result\"])\n",
    "print(\"\\nSources:\")\n",
    "for doc in response[\"source_documents\"]:\n",
    "    print(\"-\", doc.metadata.get(\"source\"))\n"
   ]
  },
  {
   "cell_type": "code",
   "execution_count": null,
   "metadata": {},
   "outputs": [],
   "source": []
  }
 ],
 "metadata": {
  "language_info": {
   "name": "python"
  }
 },
 "nbformat": 4,
 "nbformat_minor": 0
}
